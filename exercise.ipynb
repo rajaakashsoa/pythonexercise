{
  "metadata": {
    "kernelspec": {
      "name": "python",
      "display_name": "Python (Pyodide)",
      "language": "python"
    },
    "language_info": {
      "codemirror_mode": {
        "name": "python",
        "version": 3
      },
      "file_extension": ".py",
      "mimetype": "text/x-python",
      "name": "python",
      "nbconvert_exporter": "python",
      "pygments_lexer": "ipython3",
      "version": "3.8"
    }
  },
  "nbformat_minor": 4,
  "nbformat": 4,
  "cells": [
    {
      "cell_type": "code",
      "source": "print(\"Hello, World!\")",
      "metadata": {
        "trusted": true
      },
      "outputs": [
        {
          "name": "stdout",
          "text": "Hello, World!\n",
          "output_type": "stream"
        }
      ],
      "execution_count": 1
    },
    {
      "cell_type": "code",
      "source": "mystring = \"hello\"\nmyfloat = 10.0\nmyint = 20\n\nprint(mystring)\nprint(myfloat)\nprint(myint)",
      "metadata": {
        "trusted": true
      },
      "outputs": [
        {
          "name": "stdout",
          "text": "hello\n10.0\n20\n",
          "output_type": "stream"
        }
      ],
      "execution_count": 2
    },
    {
      "cell_type": "code",
      "source": "x = object()\ny = object()\n\n\nx_list = [x] * 10\ny_list = [y] * 10\n\n\nbig_list = x_list + y_list\n\n\nprint(\"x_list contains\", len(x_list), \"instances of x\")\nprint(\"y_list contains\", len(y_list), \"instances of y\")\nprint(\"big_list contains\", len(big_list), \"instances of x and y\")\n\n\n\n",
      "metadata": {
        "trusted": true
      },
      "outputs": [
        {
          "name": "stdout",
          "text": "x_list contains 10 instances of x\ny_list contains 10 instances of y\nbig_list contains 20 instances of x and y\n",
          "output_type": "stream"
        }
      ],
      "execution_count": 4
    },
    {
      "cell_type": "code",
      "source": "\nname = \"John Doe\"\nbalance = 53.44\n\n\nprint(f\"Hello {name}. Your current balance is ${balance:.2f}.\")\n",
      "metadata": {
        "trusted": true
      },
      "outputs": [
        {
          "name": "stdout",
          "text": "Hello John Doe. Your current balance is $53.44.\n",
          "output_type": "stream"
        }
      ],
      "execution_count": 5
    },
    {
      "cell_type": "code",
      "source": "\na = 5\nb = 2\n\n\naddition = a + b\nsubtraction = a - b\ndivision = a / b\nmultiplication = a * b\npower = a ** b\n\n\nprint(\"Addition:\", addition)\nprint(\"Subtraction:\", subtraction)\nprint(\"Division:\", division)\nprint(\"Multiplication:\", multiplication)\nprint(\"Power:\", power)\n",
      "metadata": {
        "trusted": true
      },
      "outputs": [
        {
          "name": "stdout",
          "text": "Addition: 7\nSubtraction: 3\nDivision: 2.5\nMultiplication: 10\nPower: 25\n",
          "output_type": "stream"
        }
      ],
      "execution_count": 7
    },
    {
      "cell_type": "code",
      "source": "\nnumbers = [1, 2, 3, 4, 5]\n\n\nnumbers.append(6)\nprint(\"List after adding a new number:\", numbers)\n\n\nnumbers.remove(3)\nprint(\"List after removing a number:\", numbers)\n\n\npowers_of_3 = [number ** 3 for number in numbers]\nprint(\"Power of 3 for each number in the list:\", powers_of_3)\n",
      "metadata": {
        "trusted": true
      },
      "outputs": [
        {
          "name": "stdout",
          "text": "List after adding a new number: [1, 2, 3, 4, 5, 6]\nList after removing a number: [1, 2, 4, 5, 6]\nPower of 3 for each number in the list: [1, 8, 64, 125, 216]\n",
          "output_type": "stream"
        }
      ],
      "execution_count": 8
    },
    {
      "cell_type": "code",
      "source": "\ngrades = [55, 40, 42, 89, 92, 99, 65, 72]\n\n\naverage_grade = sum(grades) / len(grades)\nprint(\"Average grade:\", average_grade)\n\n\nabove_average = [grade for grade in grades if grade > average_grade]\nbelow_average = [grade for grade in grades if grade < average_grade]\n\n\nprint(\"Grades above average:\", above_average)\nprint(\"Grades below average:\", below_average)\n",
      "metadata": {
        "trusted": true
      },
      "outputs": [
        {
          "name": "stdout",
          "text": "Average grade: 69.25\nGrades above average: [89, 92, 99, 72]\nGrades below average: [55, 40, 42, 65]\n",
          "output_type": "stream"
        }
      ],
      "execution_count": 9
    },
    {
      "cell_type": "code",
      "source": "",
      "metadata": {
        "trusted": true
      },
      "outputs": [],
      "execution_count": null
    }
  ]
}